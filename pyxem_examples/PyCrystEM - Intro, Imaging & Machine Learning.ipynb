{
 "cells": [
  {
   "cell_type": "markdown",
   "metadata": {},
   "source": [
    "# Intro, Imaging & Machine Learning in PyCrystEM\n",
    "\n",
    "PyCrystEM is an open-source library for crystallographic electron microscopy. Multi-dimensional data processing tools build on the HyperSpy library.\n",
    "\n",
    "This notebook demonstrates the use of PyCrystEM to: form so called 'virtual diffraction images' by plotting the diffracted intensity in a particular pixel in the reciprocal space images, learn the component patterns making up the data using machine learning techniques, and perform data enhancement as a pre-processing step for further analysis such as indexation and orientation mapping. "
   ]
  },
  {
   "cell_type": "markdown",
   "metadata": {},
   "source": [
    "## Authors"
   ]
  },
  {
   "cell_type": "markdown",
   "metadata": {},
   "source": [
    "08/06/17 Duncan Johnstone - Developed for Trondheim Diffraction Workshop"
   ]
  },
  {
   "cell_type": "markdown",
   "metadata": {},
   "source": [
    "# Requirements"
   ]
  },
  {
   "cell_type": "markdown",
   "metadata": {},
   "source": [
    "Pycrystem 0.1\n",
    "\n",
    "HyperSpy 1.3\n",
    "\n",
    "PyMatGen"
   ]
  },
  {
   "cell_type": "markdown",
   "metadata": {},
   "source": [
    "## Contents"
   ]
  },
  {
   "cell_type": "markdown",
   "metadata": {},
   "source": [
    "1. <a href='#loa'> Loading & Inspection</a>\n",
    "2. <a href='#vdf'> Virtual Diffraction Imaging</a>\n",
    "3. <a href='#ml'> Machine Learning SPED Data</a>\n",
    "4. <a href='#pre'> Pre-processing & Peak Finding</a>"
   ]
  },
  {
   "cell_type": "markdown",
   "metadata": {},
   "source": [
    "Import pycrystem"
   ]
  },
  {
   "cell_type": "code",
   "execution_count": 1,
   "metadata": {},
   "outputs": [
    {
     "name": "stderr",
     "output_type": "stream",
     "text": [
      "WARNING:hyperspy.api:The ipywidgets GUI elements are not available, probably because the hyperspy_gui_ipywidgets package is not installed.\n",
      "WARNING:hyperspy.api:The traitsui GUI elements are not available, probably because the hyperspy_gui_traitui package is not installed.\n",
      "C:\\Users\\Duncan\\AppData\\Local\\conda\\conda\\envs\\pycrystem\\lib\\site-packages\\pymatgen\\util\\plotting_utils.py:3: UserWarning: pymatgen.util.plotting_utils has been renamed pymatgen.util.plotting. This stub will be removed in PMG 5.0.\n",
      "  warnings.warn(\"pymatgen.util.plotting_utils has been renamed \"\n"
     ]
    }
   ],
   "source": [
    "%matplotlib tk\n",
    "import pycrystem as pc"
   ]
  },
  {
   "cell_type": "markdown",
   "metadata": {},
   "source": [
    "## <a id='loa'></a> 1. Loading and Inspection"
   ]
  },
  {
   "cell_type": "markdown",
   "metadata": {},
   "source": [
    "Load the SPED data acquired from the nanowire"
   ]
  },
  {
   "cell_type": "code",
   "execution_count": 2,
   "metadata": {},
   "outputs": [],
   "source": [
    "dp = pc.load('nanowire_precession.hdf5')"
   ]
  },
  {
   "cell_type": "markdown",
   "metadata": {},
   "source": [
    "Look at what kind of object 'dp' is"
   ]
  },
  {
   "cell_type": "code",
   "execution_count": 3,
   "metadata": {},
   "outputs": [
    {
     "data": {
      "text/plain": [
       "<ElectronDiffraction, title: , dimensions: (30, 100|144, 144)>"
      ]
     },
     "execution_count": 3,
     "metadata": {},
     "output_type": "execute_result"
    }
   ],
   "source": [
    "dp"
   ]
  },
  {
   "cell_type": "markdown",
   "metadata": {},
   "source": [
    "Inspect the metadata associated with the object 'dp'"
   ]
  },
  {
   "cell_type": "code",
   "execution_count": 4,
   "metadata": {},
   "outputs": [
    {
     "data": {
      "text/plain": [
       "├── Acquisition_instrument\n",
       "│   └── TEM\n",
       "│       ├── beam_energy = 300.0\n",
       "│       ├── camera_length = 0.21000000000000002\n",
       "│       └── scan_rotation = 277.0\n",
       "├── General\n",
       "│   ├── original_filename = nanowire_precession.blo\n",
       "│   ├── time = (2014, 12, 8)\n",
       "│   └── title = \n",
       "└── Signal\n",
       "    ├── binned = False\n",
       "    ├── signal_origin = \n",
       "    └── signal_type = electron_diffraction"
      ]
     },
     "execution_count": 4,
     "metadata": {},
     "output_type": "execute_result"
    }
   ],
   "source": [
    "dp.metadata"
   ]
  },
  {
   "cell_type": "markdown",
   "metadata": {},
   "source": [
    "Set important experimental parameters using the built in function"
   ]
  },
  {
   "cell_type": "code",
   "execution_count": 5,
   "metadata": {
    "collapsed": true
   },
   "outputs": [],
   "source": [
    "dp.set_experimental_parameters(accelerating_voltage=300.,\n",
    "                               camera_length=40.,\n",
    "                               scan_rotation=270.,\n",
    "                               convergence_angle=2.,\n",
    "                               exposure_time=10.)"
   ]
  },
  {
   "cell_type": "markdown",
   "metadata": {},
   "source": [
    "See how this changed the metadata"
   ]
  },
  {
   "cell_type": "code",
   "execution_count": 6,
   "metadata": {},
   "outputs": [
    {
     "data": {
      "text/plain": [
       "├── Acquisition_instrument\n",
       "│   └── TEM\n",
       "│       ├── Detector\n",
       "│       │   └── Diffraction\n",
       "│       │       ├── camera_length = 40.0\n",
       "│       │       └── exposure_time = 10.0\n",
       "│       ├── accelerating_voltage = 300.0\n",
       "│       ├── beam_energy = 300.0\n",
       "│       ├── camera_length = 0.21000000000000002\n",
       "│       ├── convergence_angle = 2.0\n",
       "│       └── scan_rotation = 270.0\n",
       "├── General\n",
       "│   ├── original_filename = nanowire_precession.blo\n",
       "│   ├── time = (2014, 12, 8)\n",
       "│   └── title = \n",
       "└── Signal\n",
       "    ├── binned = False\n",
       "    ├── signal_origin = \n",
       "    └── signal_type = electron_diffraction"
      ]
     },
     "execution_count": 6,
     "metadata": {},
     "output_type": "execute_result"
    }
   ],
   "source": [
    "dp.metadata"
   ]
  },
  {
   "cell_type": "markdown",
   "metadata": {},
   "source": [
    "Set another metadata item and check it"
   ]
  },
  {
   "cell_type": "code",
   "execution_count": null,
   "metadata": {},
   "outputs": [],
   "source": [
    "dp.metadata.set_item(\"General.title\", 'GaAs Nanowire')\n",
    "dp.metadata"
   ]
  },
  {
   "cell_type": "markdown",
   "metadata": {},
   "source": [
    "Plot the data to inspect it"
   ]
  },
  {
   "cell_type": "code",
   "execution_count": null,
   "metadata": {
    "collapsed": true
   },
   "outputs": [],
   "source": [
    "dp.plot()"
   ]
  },
  {
   "cell_type": "markdown",
   "metadata": {},
   "source": [
    "Set the diffraction pattern calibration"
   ]
  },
  {
   "cell_type": "code",
   "execution_count": null,
   "metadata": {
    "collapsed": true
   },
   "outputs": [],
   "source": [
    "dp.set_calibration(0.0035)"
   ]
  },
  {
   "cell_type": "markdown",
   "metadata": {},
   "source": [
    "Plot the data with the new calibration"
   ]
  },
  {
   "cell_type": "code",
   "execution_count": null,
   "metadata": {
    "collapsed": true
   },
   "outputs": [],
   "source": [
    "dp.plot()"
   ]
  },
  {
   "cell_type": "markdown",
   "metadata": {},
   "source": [
    "## <a id='vdf'></a> 2. Virtual Diffraction Imaging"
   ]
  },
  {
   "cell_type": "markdown",
   "metadata": {},
   "source": [
    "Plot an interactive virtual image integrating intensity within a circular subset of pixels in the diffraction pattern"
   ]
  },
  {
   "cell_type": "code",
   "execution_count": null,
   "metadata": {},
   "outputs": [],
   "source": [
    "roi = pc.roi.CircleROI(cx=0.,cy=0, r_inner=0, r=0.02)\n",
    "dp.plot_interactive_virtual_image(roi=roi)"
   ]
  },
  {
   "cell_type": "markdown",
   "metadata": {},
   "source": [
    "Get the virtual diffraction image associated with the last integration window used interactively"
   ]
  },
  {
   "cell_type": "code",
   "execution_count": null,
   "metadata": {},
   "outputs": [],
   "source": [
    "vdf=dp.get_virtual_image(roi)"
   ]
  },
  {
   "cell_type": "markdown",
   "metadata": {},
   "source": [
    "Plot the virtual dark-field image"
   ]
  },
  {
   "cell_type": "code",
   "execution_count": null,
   "metadata": {
    "collapsed": true
   },
   "outputs": [],
   "source": [
    "vdf.plot()"
   ]
  },
  {
   "cell_type": "markdown",
   "metadata": {},
   "source": [
    "Save the virtual dark-field image as a 32bit tif"
   ]
  },
  {
   "cell_type": "code",
   "execution_count": null,
   "metadata": {
    "collapsed": true
   },
   "outputs": [],
   "source": [
    "vdf.change_dtype('float32')\n",
    "vdf.save('vdfeg.tif')"
   ]
  },
  {
   "cell_type": "markdown",
   "metadata": {},
   "source": [
    "Plot the data with an adjustable marker indicating where to crop the scan region"
   ]
  },
  {
   "cell_type": "code",
   "execution_count": null,
   "metadata": {},
   "outputs": [],
   "source": [
    "reg = pc.roi.RectangularROI(left=50, top=837.5, right=290, bottom=1237.5)\n",
    "dp.plot()\n",
    "reg.add_widget(dp)"
   ]
  },
  {
   "cell_type": "markdown",
   "metadata": {
    "collapsed": true
   },
   "source": [
    "Crop the dataset based on the region defined above"
   ]
  },
  {
   "cell_type": "code",
   "execution_count": null,
   "metadata": {
    "collapsed": true
   },
   "outputs": [],
   "source": [
    "dpc = reg(dp)"
   ]
  },
  {
   "cell_type": "markdown",
   "metadata": {},
   "source": [
    "# <a id='ml'></a> 3. Unsupervised learning of component patterns"
   ]
  },
  {
   "cell_type": "markdown",
   "metadata": {},
   "source": [
    "Perform singular value decomposition (SVD) of the data"
   ]
  },
  {
   "cell_type": "code",
   "execution_count": null,
   "metadata": {},
   "outputs": [],
   "source": [
    "dpc.change_dtype('float')\n",
    "dpc.decomposition(True, algorithm='svd')"
   ]
  },
  {
   "cell_type": "markdown",
   "metadata": {},
   "source": [
    "Obtain a \"Scree plot\" by plotting the fraction of variance described by each principal component"
   ]
  },
  {
   "cell_type": "code",
   "execution_count": null,
   "metadata": {},
   "outputs": [],
   "source": [
    "dpc.plot_explained_variance_ratio()"
   ]
  },
  {
   "cell_type": "markdown",
   "metadata": {},
   "source": [
    "Plot the decomposition results and have a look at them"
   ]
  },
  {
   "cell_type": "code",
   "execution_count": null,
   "metadata": {},
   "outputs": [],
   "source": [
    "dpc.plot_decomposition_results()"
   ]
  },
  {
   "cell_type": "markdown",
   "metadata": {},
   "source": [
    "Perform non-negative matrix factorisation (NMF)"
   ]
  },
  {
   "cell_type": "code",
   "execution_count": null,
   "metadata": {
    "collapsed": true
   },
   "outputs": [],
   "source": [
    "dpc.decomposition(True, algorithm='nmf', output_dimension=3)"
   ]
  },
  {
   "cell_type": "markdown",
   "metadata": {},
   "source": [
    "Plot the NMF results"
   ]
  },
  {
   "cell_type": "code",
   "execution_count": null,
   "metadata": {},
   "outputs": [],
   "source": [
    "dpc.plot_decomposition_results()"
   ]
  },
  {
   "cell_type": "markdown",
   "metadata": {},
   "source": [
    "# <a id='pre'></a> 4. Pre-processing & Peak Finding"
   ]
  },
  {
   "cell_type": "code",
   "execution_count": null,
   "metadata": {
    "collapsed": true
   },
   "outputs": [],
   "source": [
    "dp = pc.ElectronDiffraction(dp)"
   ]
  },
  {
   "cell_type": "markdown",
   "metadata": {},
   "source": [
    "Perform a background subtraction by radially integrating the 2D diffraction pattern and fitting a model containing a lorentzian, exponential and linear function"
   ]
  },
  {
   "cell_type": "code",
   "execution_count": null,
   "metadata": {},
   "outputs": [],
   "source": [
    "dp.remove_background(1).plot()"
   ]
  },
  {
   "cell_type": "markdown",
   "metadata": {},
   "source": [
    "Obtain a radially integrated diffraction profile and plot it"
   ]
  },
  {
   "cell_type": "code",
   "execution_count": null,
   "metadata": {},
   "outputs": [],
   "source": [
    "rp = dp.get_radial_profile()\n",
    "rp.plot()"
   ]
  },
  {
   "cell_type": "markdown",
   "metadata": {},
   "source": [
    "Interactively tune peak finding parameters"
   ]
  },
  {
   "cell_type": "code",
   "execution_count": null,
   "metadata": {},
   "outputs": [],
   "source": [
    "dp.find_peaks_interactive()"
   ]
  },
  {
   "cell_type": "markdown",
   "metadata": {},
   "source": [
    "Perform peak finding on all diffraction patterns in data"
   ]
  },
  {
   "cell_type": "code",
   "execution_count": null,
   "metadata": {},
   "outputs": [],
   "source": [
    "peaks = dp.find_peaks()"
   ]
  },
  {
   "cell_type": "markdown",
   "metadata": {},
   "source": [
    "Check the peaks object"
   ]
  },
  {
   "cell_type": "code",
   "execution_count": null,
   "metadata": {},
   "outputs": [],
   "source": [
    "peaks"
   ]
  },
  {
   "cell_type": "markdown",
   "metadata": {},
   "source": [
    "Look at what's in the peaks object"
   ]
  },
  {
   "cell_type": "code",
   "execution_count": null,
   "metadata": {},
   "outputs": [],
   "source": [
    "peaks.data"
   ]
  },
  {
   "cell_type": "code",
   "execution_count": null,
   "metadata": {
    "collapsed": true
   },
   "outputs": [],
   "source": []
  }
 ],
 "metadata": {
  "anaconda-cloud": {},
  "kernelspec": {
   "display_name": "Python 3",
   "language": "python",
   "name": "python3"
  },
  "language_info": {
   "codemirror_mode": {
    "name": "ipython",
    "version": 3
   },
   "file_extension": ".py",
   "mimetype": "text/x-python",
   "name": "python",
   "nbconvert_exporter": "python",
   "pygments_lexer": "ipython3",
   "version": "3.6.2"
  },
  "widgets": {
   "state": {
    "129b93d3ba954eb992d51fbf1e9b155e": {
     "views": [
      {
       "cell_index": 57
      }
     ]
    },
    "2ab3842519c3455592db5c834d2e33d8": {
     "views": [
      {
       "cell_index": 57
      }
     ]
    },
    "4033f1e346fd446bb8112a0ab4c1852d": {
     "views": [
      {
       "cell_index": 57
      }
     ]
    },
    "4316c6dbe2df4359be7a8af660609743": {
     "views": [
      {
       "cell_index": 61
      }
     ]
    },
    "449d4a42101d4fc79c6b6203b974695a": {
     "views": [
      {
       "cell_index": 59
      }
     ]
    },
    "48c6dfcccf1840baa54fa734f34c8f51": {
     "views": [
      {
       "cell_index": 57
      }
     ]
    },
    "5bf055ba0910450084cb44f31ff8a2eb": {
     "views": [
      {
       "cell_index": 61
      }
     ]
    },
    "bcb00cf357ee479ba389e9d19aa21bc5": {
     "views": [
      {
       "cell_index": 61
      }
     ]
    },
    "c2b0145b674c42988487114076efc891": {
     "views": [
      {
       "cell_index": 57
      }
     ]
    },
    "c77915d7befa4215a8ca901c6f8a82e5": {
     "views": [
      {
       "cell_index": 57
      }
     ]
    },
    "da3f026a56564b6195cb500d77e5e13a": {
     "views": [
      {
       "cell_index": 63
      }
     ]
    },
    "dfc7d3578ffb4ab79dc72e22be3f6255": {
     "views": [
      {
       "cell_index": 63
      }
     ]
    },
    "fb5ae80c36384f049ed13c49801cd8f6": {
     "views": [
      {
       "cell_index": 57
      }
     ]
    }
   },
   "version": "1.2.0"
  }
 },
 "nbformat": 4,
 "nbformat_minor": 1
}
