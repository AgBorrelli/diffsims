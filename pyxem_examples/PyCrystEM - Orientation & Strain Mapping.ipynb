{
 "cells": [
  {
   "cell_type": "markdown",
   "metadata": {},
   "source": [
    "# Orientation & Strain Mapping in PyCrystEM\n",
    "\n",
    "PyCrystEM is an open-source library for crystallographic electron microscopy. Multi-dimensional data processing tools build on the HyperSpy library.\n",
    "\n",
    "This Notebook provides an illustrative example of orientation and strain mapping using PyCrystEM. It is a trivial example used for code testing. Simple datasets are simulated and then the orientation or strain is mapped to illustrate the code syntax and to act as a sanity check."
   ]
  },
  {
   "cell_type": "markdown",
   "metadata": {},
   "source": [
    "## Authors"
   ]
  },
  {
   "cell_type": "markdown",
   "metadata": {},
   "source": [
    "08/06/17 Duncan Johnstone - Developed for Trondheim Diffraction Workshop"
   ]
  },
  {
   "cell_type": "markdown",
   "metadata": {},
   "source": [
    "## Requirements"
   ]
  },
  {
   "cell_type": "markdown",
   "metadata": {},
   "source": [
    "Pycrystem 0.1\n",
    "\n",
    "HyperSpy 1.3\n",
    "\n",
    "PyMatGen\n",
    "\n",
    "transforms3d"
   ]
  },
  {
   "cell_type": "markdown",
   "metadata": {},
   "source": [
    "# Contents"
   ]
  },
  {
   "cell_type": "markdown",
   "metadata": {},
   "source": [
    "1. <a href='#spe'> Specimen & Data</a>\n",
    "2. <a href='#spe'> Loading & Inspection</a>\n",
    "3. <a href='#loa'> Preprocessing for Indexation </a>\n",
    "4. <a href='#vdf'> Orientation Mapping</a>\n",
    "5. <a href='#ml'> Strain Mapping</a>"
   ]
  },
  {
   "cell_type": "markdown",
   "metadata": {},
   "source": [
    "## <a id='loa'></a> 1. Import Requirements"
   ]
  },
  {
   "cell_type": "code",
   "execution_count": 1,
   "metadata": {},
   "outputs": [
    {
     "name": "stderr",
     "output_type": "stream",
     "text": [
      "WARNING:hyperspy.api:The ipywidgets GUI elements are not available, probably because the hyperspy_gui_ipywidgets package is not installed.\n",
      "WARNING:hyperspy.api:The traitsui GUI elements are not available, probably because the hyperspy_gui_traitui package is not installed.\n",
      "C:\\Users\\Duncan\\AppData\\Local\\conda\\conda\\envs\\pycrystem\\lib\\site-packages\\pymatgen\\util\\plotting_utils.py:3: UserWarning: pymatgen.util.plotting_utils has been renamed pymatgen.util.plotting. This stub will be removed in PMG 5.0.\n",
      "  warnings.warn(\"pymatgen.util.plotting_utils has been renamed \"\n"
     ]
    }
   ],
   "source": [
    "%matplotlib tk\n",
    "import numpy as np\n",
    "import hyperspy.api as hs\n",
    "import pycrystem as pc\n",
    "import pymatgen as pmg\n",
    "from pycrystem.indexation_generator import IndexationGenerator\n",
    "from scipy.constants import pi"
   ]
  },
  {
   "cell_type": "markdown",
   "metadata": {},
   "source": [
    "## <a id='loa'></a> 2. Simulate Orientation Test Data"
   ]
  },
  {
   "cell_type": "markdown",
   "metadata": {},
   "source": [
    "Specify the graphite crystal structure from a .cif file"
   ]
  },
  {
   "cell_type": "code",
   "execution_count": null,
   "metadata": {},
   "outputs": [],
   "source": [
    "graphite = pmg.Structure.from_file('./graphite.cif')"
   ]
  },
  {
   "cell_type": "markdown",
   "metadata": {},
   "source": [
    "Specify the silicon crystal structure by defining a lattice and atomic coordinates"
   ]
  },
  {
   "cell_type": "code",
   "execution_count": null,
   "metadata": {
    "collapsed": true
   },
   "outputs": [],
   "source": [
    "si = pmg.Element(\"Si\")\n",
    "lattice = pmg.Lattice.cubic(5.431)\n",
    "silicon = pmg.Structure.from_spacegroup(\"Fd-3m\",lattice, [si], [[0, 0, 0]])"
   ]
  },
  {
   "cell_type": "markdown",
   "metadata": {},
   "source": [
    "Simulate a test dataset, which is a bi-crystal of graphite and silicon both rotated through an angle of 45 degrees about the axis out of the page across the navigation region."
   ]
  },
  {
   "cell_type": "code",
   "execution_count": null,
   "metadata": {},
   "outputs": [],
   "source": [
    "from pymatgen.transformations.standard_transformations import RotationTransformation\n",
    "\n",
    "size = 256\n",
    "\n",
    "radius=1.5\n",
    "ediff = pc.ElectronDiffractionCalculator(300., 0.025)\n",
    "\n",
    "rotaxis = [0, 0, 1]\n",
    "thetas = np.arange(0, 45, 1)\n",
    "\n",
    "data_graphite = []\n",
    "for theta in thetas:\n",
    "    rot = RotationTransformation(rotaxis, theta)\n",
    "    greg = rot.apply_transformation(graphite)\n",
    "    diff_dat = ediff.calculate_ed_data(greg, radius)\n",
    "    dpi = diff_dat.as_signal(256, 0.03, 1.2)\n",
    "    data_graphite.append(dpi.data)\n",
    "    \n",
    "data_silicon = []\n",
    "for theta in thetas:\n",
    "    rot = RotationTransformation(rotaxis, theta)\n",
    "    sieg = rot.apply_transformation(silicon)\n",
    "    diff_dat = ediff.calculate_ed_data(sieg, radius)\n",
    "    dpi = diff_dat.as_signal(256, 0.03, 1.2)\n",
    "    data_silicon.append(dpi.data)\n",
    "    \n",
    "data = [data_silicon] * 3 + [data_graphite] * 3\n",
    "test_data = pc.ElectronDiffraction(data)\n",
    "test_data.set_calibration(1.2/128)"
   ]
  },
  {
   "cell_type": "markdown",
   "metadata": {},
   "source": [
    "Plot the test data to see what the model looks like."
   ]
  },
  {
   "cell_type": "code",
   "execution_count": null,
   "metadata": {
    "collapsed": true
   },
   "outputs": [],
   "source": [
    "test_data.plot()"
   ]
  },
  {
   "cell_type": "markdown",
   "metadata": {},
   "source": [
    "## <a id='loa'></a> 3. Perform Orientation Mapping"
   ]
  },
  {
   "cell_type": "markdown",
   "metadata": {},
   "source": [
    "Define a list of rotations, here between 0-120 degrees about the axis out of the page, to include in the template bank used for pattern matching based orientation mapping."
   ]
  },
  {
   "cell_type": "code",
   "execution_count": 2,
   "metadata": {
    "collapsed": true
   },
   "outputs": [],
   "source": [
    "rot_list = []\n",
    "nstep=119\n",
    "for i in np.arange(nstep):\n",
    "    theta = (i*59.5/(nstep-1))/180*pi\n",
    "    rot_list.append((theta, 0., 0.))"
   ]
  },
  {
   "cell_type": "markdown",
   "metadata": {},
   "source": [
    "Simulate a library of diffraction pattern templates (to be used in pattern matching) for the two crystal structures (graphite and silicon) and all rotations specified in the list above."
   ]
  },
  {
   "cell_type": "code",
   "execution_count": 3,
   "metadata": {},
   "outputs": [
    {
     "ename": "NameError",
     "evalue": "name 'graphite' is not defined",
     "output_type": "error",
     "traceback": [
      "\u001b[1;31m---------------------------------------------------------------------------\u001b[0m",
      "\u001b[1;31mNameError\u001b[0m                                 Traceback (most recent call last)",
      "\u001b[1;32m<ipython-input-3-d9febf36a947>\u001b[0m in \u001b[0;36m<module>\u001b[1;34m()\u001b[0m\n\u001b[0;32m      2\u001b[0m \u001b[0mdiff_gen\u001b[0m \u001b[1;33m=\u001b[0m \u001b[0mpc\u001b[0m\u001b[1;33m.\u001b[0m\u001b[0mDiffractionLibraryGenerator\u001b[0m\u001b[1;33m(\u001b[0m\u001b[0medc\u001b[0m\u001b[1;33m)\u001b[0m\u001b[1;33m\u001b[0m\u001b[0m\n\u001b[0;32m      3\u001b[0m \u001b[0mstruc_lib\u001b[0m \u001b[1;33m=\u001b[0m \u001b[0mdict\u001b[0m\u001b[1;33m(\u001b[0m\u001b[1;33m)\u001b[0m\u001b[1;33m\u001b[0m\u001b[0m\n\u001b[1;32m----> 4\u001b[1;33m \u001b[0mstruc_lib\u001b[0m\u001b[1;33m[\u001b[0m\u001b[1;34m\"gr\"\u001b[0m\u001b[1;33m]\u001b[0m \u001b[1;33m=\u001b[0m \u001b[1;33m(\u001b[0m\u001b[0mgraphite\u001b[0m\u001b[1;33m,\u001b[0m \u001b[0mrot_list\u001b[0m\u001b[1;33m)\u001b[0m\u001b[1;33m\u001b[0m\u001b[0m\n\u001b[0m\u001b[0;32m      5\u001b[0m \u001b[0mstruc_lib\u001b[0m\u001b[1;33m[\u001b[0m\u001b[1;34m'si'\u001b[0m\u001b[1;33m]\u001b[0m \u001b[1;33m=\u001b[0m \u001b[1;33m(\u001b[0m\u001b[0msilicon\u001b[0m\u001b[1;33m,\u001b[0m \u001b[0mrot_list\u001b[0m\u001b[1;33m)\u001b[0m\u001b[1;33m\u001b[0m\u001b[0m\n\u001b[0;32m      6\u001b[0m library = diff_gen.get_diffraction_library(struc_lib,\n",
      "\u001b[1;31mNameError\u001b[0m: name 'graphite' is not defined"
     ]
    }
   ],
   "source": [
    "edc = pc.ElectronDiffractionCalculator(50, 5e-2)\n",
    "diff_gen = pc.DiffractionLibraryGenerator(edc)\n",
    "struc_lib = dict()\n",
    "struc_lib[\"gr\"] = (graphite, rot_list)\n",
    "struc_lib['si'] = (silicon, rot_list)\n",
    "library = diff_gen.get_diffraction_library(struc_lib,\n",
    "                                            calibration=1.2/128,\n",
    "                                            reciprocal_radius=1.,\n",
    "                                            representation='euler')"
   ]
  },
  {
   "cell_type": "markdown",
   "metadata": {},
   "source": [
    "Perform pattern matching between each diffraction pattern in the test data and the library of template patterns.\n",
    "\n",
    "The indexer returns the 'n' best correlated orientations with a default value of the 5 best for each phase"
   ]
  },
  {
   "cell_type": "code",
   "execution_count": null,
   "metadata": {},
   "outputs": [],
   "source": [
    "indexer = IndexationGenerator(test_data, library)\n",
    "match_results = indexer.correlate()"
   ]
  },
  {
   "cell_type": "markdown",
   "metadata": {},
   "source": [
    "Look at what's in the matching results:\n",
    "\n",
    "column 1   = phase id (0 = graphite, 1 = silicon)\n",
    "column 2-4 = Euler angles in the zxz convention (radians)\n",
    "colum 5    = Correlation scores associated with the orientation and phase (top 5 for each phase, max = 1.)"
   ]
  },
  {
   "cell_type": "code",
   "execution_count": null,
   "metadata": {},
   "outputs": [],
   "source": [
    "match_results.inav[0,0].data"
   ]
  },
  {
   "cell_type": "markdown",
   "metadata": {},
   "source": [
    "Get the results for just one phase and look at it."
   ]
  },
  {
   "cell_type": "code",
   "execution_count": null,
   "metadata": {},
   "outputs": [],
   "source": [
    "phase_res = match_results.get_phase_results(phaseid=0)\n",
    "phase_res.inav[0,0].data"
   ]
  },
  {
   "cell_type": "markdown",
   "metadata": {},
   "source": [
    "Obtain a 'final' crystallographic map by returning the best matching phase and orientation for each pixel.\n",
    "\n",
    "The crystallographic map results are:\n",
    "\n",
    "column 1   = phase id\n",
    "column 2-4 = Euler angles\n",
    "column 5   = correlation score\n",
    "column 6   = difference between this correlation score and the 2nd best correlation score"
   ]
  },
  {
   "cell_type": "code",
   "execution_count": null,
   "metadata": {},
   "outputs": [],
   "source": [
    "cryst_map = match_results.get_crystallographic_map()\n",
    "cryst_map.inav[0,0].data"
   ]
  },
  {
   "cell_type": "markdown",
   "metadata": {},
   "source": [
    "Get a phase map from the results i.e. phase i.d at each pixel and plot it"
   ]
  },
  {
   "cell_type": "code",
   "execution_count": null,
   "metadata": {},
   "outputs": [],
   "source": [
    "cryst_map.get_phase_map().plot()"
   ]
  },
  {
   "cell_type": "markdown",
   "metadata": {},
   "source": [
    "Get an orientation map i.e. rotation angle at each pixel and plot it"
   ]
  },
  {
   "cell_type": "code",
   "execution_count": null,
   "metadata": {},
   "outputs": [],
   "source": [
    "cryst_map.get_orientation_image().plot()"
   ]
  },
  {
   "cell_type": "markdown",
   "metadata": {},
   "source": [
    "## <a id='loa'></a> 4. Simulate Strain Test Data"
   ]
  },
  {
   "cell_type": "markdown",
   "metadata": {},
   "source": [
    "Define silicon crystal structure"
   ]
  },
  {
   "cell_type": "code",
   "execution_count": null,
   "metadata": {
    "collapsed": true
   },
   "outputs": [],
   "source": [
    "si = pmg.Element(\"Si\")\n",
    "lattice = pmg.Lattice.cubic(5.431)\n",
    "structure = pmg.Structure.from_spacegroup(\"Fd-3m\",lattice, [si], [[0, 0, 0]])\n",
    "ediff = pc.ElectronDiffractionCalculator(300., 0.025)"
   ]
  },
  {
   "cell_type": "markdown",
   "metadata": {},
   "source": [
    "Define a series of affine transformations from 0-2%, apply these to the crystal structure and simulate the diffraction in each case."
   ]
  },
  {
   "cell_type": "code",
   "execution_count": null,
   "metadata": {},
   "outputs": [],
   "source": [
    "from pymatgen.transformations.standard_transformations import DeformStructureTransformation\n",
    "\n",
    "affines = [[[1, 0, 0], [0, 1, 0], [0, 0,  1]],\n",
    "           [[1.002, 0, 0], [0, 1, 0], [0, 0,  1]],\n",
    "           [[1.004, 0, 0], [0, 1, 0], [0, 0,  1]],\n",
    "           [[1.006, 0, 0], [0, 1, 0], [0, 0,  1]],\n",
    "           [[1.008, 0, 0], [0, 1, 0], [0, 0,  1]],\n",
    "           [[1.01, 0, 0], [0, 1, 0], [0, 0,  1]],\n",
    "           [[1.012, 0, 0], [0, 1, 0], [0, 0,  1]],\n",
    "           [[1.014, 0, 0], [0, 1, 0], [0, 0,  1]],\n",
    "           [[1.016, 0, 0], [0, 1, 0], [0, 0,  1]],\n",
    "           [[1.018, 0, 0], [0, 1, 0], [0, 0,  1]],\n",
    "           [[1.02, 0, 0], [0, 1, 0], [0, 0,  1]]]\n",
    "\n",
    "data = []\n",
    "for affine in affines:\n",
    "    deform = DeformStructureTransformation(affine)\n",
    "    strained = deform.apply_transformation(structure)\n",
    "    diff_dat = ediff.calculate_ed_data(strained, 2.5)\n",
    "    dpi = diff_dat.as_signal(512, 0.02, 2.5)\n",
    "    data.append(dpi.data)\n",
    "strain_series = pc.ElectronDiffraction(data)\n",
    "\n",
    "#stack multiple versions of tilt series together so that you have repeats of measurements for error analysis\n",
    "dp = hs.stack((strain_series, strain_series, strain_series, strain_series, strain_series, strain_series, strain_series, strain_series, strain_series, strain_series))"
   ]
  },
  {
   "cell_type": "markdown",
   "metadata": {},
   "source": [
    "Plot the test data to see what it looks like."
   ]
  },
  {
   "cell_type": "code",
   "execution_count": null,
   "metadata": {
    "collapsed": true
   },
   "outputs": [],
   "source": [
    "dp.plot()"
   ]
  },
  {
   "cell_type": "markdown",
   "metadata": {},
   "source": [
    "## <a id='loa'></a> 5. Perform Strain Mapping"
   ]
  },
  {
   "cell_type": "markdown",
   "metadata": {},
   "source": [
    "Create a model to the data which comprises a distorted version of a reference (unstrained) diffraction pattern at each probe position."
   ]
  },
  {
   "cell_type": "code",
   "execution_count": null,
   "metadata": {},
   "outputs": [],
   "source": [
    "m = dp.create_model()\n",
    "ref = pc.ScalableReferencePattern(dp.inav[0,0])\n",
    "m.append(ref)"
   ]
  },
  {
   "cell_type": "markdown",
   "metadata": {},
   "source": [
    "Print the affine transform values associated with the distorted diffraction pattern before fitting."
   ]
  },
  {
   "cell_type": "code",
   "execution_count": null,
   "metadata": {},
   "outputs": [],
   "source": [
    "m.print_current_values()"
   ]
  },
  {
   "cell_type": "markdown",
   "metadata": {},
   "source": [
    "Perform fitting"
   ]
  },
  {
   "cell_type": "code",
   "execution_count": null,
   "metadata": {},
   "outputs": [],
   "source": [
    "m.multifit()"
   ]
  },
  {
   "cell_type": "markdown",
   "metadata": {},
   "source": [
    "Construct the displacement graident tensor at each pixel from the fitting results"
   ]
  },
  {
   "cell_type": "code",
   "execution_count": null,
   "metadata": {},
   "outputs": [],
   "source": [
    "disp_grad = ref.construct_displacement_gradient()"
   ]
  },
  {
   "cell_type": "markdown",
   "metadata": {},
   "source": [
    "Perform (right) polar decomposition on the displacement gradient tensor to get rotation matrix, R, and strain matrix, U, at each pixel."
   ]
  },
  {
   "cell_type": "code",
   "execution_count": null,
   "metadata": {},
   "outputs": [],
   "source": [
    "R, U = disp_grad.polar_decomposition()"
   ]
  },
  {
   "cell_type": "markdown",
   "metadata": {},
   "source": [
    "Get a strain map and plot it."
   ]
  },
  {
   "cell_type": "code",
   "execution_count": null,
   "metadata": {},
   "outputs": [],
   "source": [
    "strain_map = disp_grad.get_strain_maps()\n",
    "strain_map.plot()"
   ]
  },
  {
   "cell_type": "code",
   "execution_count": null,
   "metadata": {
    "collapsed": true
   },
   "outputs": [],
   "source": []
  }
 ],
 "metadata": {
  "anaconda-cloud": {},
  "kernelspec": {
   "display_name": "Python 3",
   "language": "python",
   "name": "python3"
  },
  "language_info": {
   "codemirror_mode": {
    "name": "ipython",
    "version": 3
   },
   "file_extension": ".py",
   "mimetype": "text/x-python",
   "name": "python",
   "nbconvert_exporter": "python",
   "pygments_lexer": "ipython3",
   "version": "3.6.2"
  },
  "widgets": {
   "state": {
    "280e931f7b274209a009d92f04098e5c": {
     "views": [
      {
       "cell_index": 54
      }
     ]
    },
    "3d704cd8716e4cb1bf00a7c4e9fe1330": {
     "views": [
      {
       "cell_index": 34
      }
     ]
    },
    "477fdf6035284f3ca253bc694d701370": {
     "views": [
      {
       "cell_index": 24
      }
     ]
    },
    "48d9b9d421a14ddc9e73f084d5fc5e37": {
     "views": [
      {
       "cell_index": 30
      }
     ]
    },
    "635d08b3b596415ab27d7bed3b684f91": {
     "views": [
      {
       "cell_index": 48
      }
     ]
    },
    "64f45a95642f400ea7d3bed5fecff420": {
     "views": [
      {
       "cell_index": 52
      }
     ]
    },
    "7618040a46fc4203b76648a4d1383a11": {
     "views": [
      {
       "cell_index": 28
      }
     ]
    },
    "bb0e63a793d34b2bb255c5dca59a5aa3": {
     "views": [
      {
       "cell_index": 54
      }
     ]
    }
   },
   "version": "1.2.0"
  }
 },
 "nbformat": 4,
 "nbformat_minor": 1
}
